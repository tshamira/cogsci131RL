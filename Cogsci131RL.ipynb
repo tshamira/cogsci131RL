{
 "cells": [
  {
   "cell_type": "markdown",
   "id": "641282cb",
   "metadata": {},
   "source": [
    "# Assignment 2: Reinforcement Learning"
   ]
  },
  {
   "cell_type": "code",
   "execution_count": 2,
   "id": "75ce96f0",
   "metadata": {},
   "outputs": [],
   "source": [
    "import numpy as np\n",
    "import pandas as pd\n",
    "import matplotlib.pyplot as plt"
   ]
  },
  {
   "cell_type": "markdown",
   "id": "fcf63686",
   "metadata": {},
   "source": [
    "## Question 1"
   ]
  },
  {
   "cell_type": "markdown",
   "id": "53c1976c",
   "metadata": {},
   "source": [
    "#### In  the  figure  below  you  can  see  one  example  we  discussed  in  class  involving  Markov  decision processes.  Write  down  the  Bellman  equations  for  a  random  policy  you  generate  and  for  the  optimal policy  we  discussed  in  class.  "
   ]
  },
  {
   "cell_type": "markdown",
   "id": "97f8d634",
   "metadata": {},
   "source": [
    "Bellman equation: $V^\\pi(s) = R(s)  +  \\gamma \\sum \\limits _{i=1} ^{n} P_\\pi(s_i'|s_i)V^\\pi(s_i')$, where $n$ = number of possible states\n",
    "\n",
    "Bellman equations for optimal  policy: \n",
    "\\begin{align*}\n",
    "    V^\\pi(s1) &= -0.02 + 0.9[(0.7 * V(Heaven)) + (0.2 * V(s1)) + (0.1 * V(s3))] \\\\\n",
    "    V^\\pi(s2) &= -0.02 + 0.9[(0.3 * V(s2)) + (0.7 * V(s3))] \\\\\n",
    "    V^\\pi(s3) &= -0.02 + 0.9[(0.7 * V(s1)) + (0.7 * V(s2)) + (0.1 * V(s4)) + (0.1 * V(s5))] \\\\\n",
    "    V^\\pi(s4) &= -0.02 + 0.9[(0.1 * V(s3)) + (0.3 * V(s4))] \\\\\n",
    "    V^\\pi(s5) &= -0.02 + 0.9[(0.7 * V(s3)) + (0.2 * V(s5)) + (0.1 * V(Hell))]\n",
    "\\end{align*}\n",
    "\n",
    "Bellman equation for random  policy (where the most probable actions of $s2$ & $s4$ are \"UP\"): \n",
    "\\begin{align*}\n",
    "    V^\\pi(s1) &= -0.02 + 0.9[(0.7 * V(Heaven)) + (0.2 * V(s1)) + (0.1 * V(s3))] \\\\\n",
    "    V^\\pi(s2) &= -0.02 + 0.9[(0.9 * V(s2)) + (0.1 * V(s3))] \\\\\n",
    "    V^\\pi(s3) &= -0.02 + 0.9[(0.7 * V(s1)) + (0.7 * V(s2)) + (0.1 * V(s4)) + (0.1 * V(s5))] \\\\\n",
    "    V^\\pi(s4) &= -0.02 + 0.9[(0.1 * V(s3)) + (0.9 * V(s4))] \\\\\n",
    "    V^\\pi(s5) &= -0.02 + 0.9[(0.7 * V(s3)) + (0.2 * V(s5)) + (0.1 * V(Hell))]\n",
    "\\end{align*}"
   ]
  },
  {
   "cell_type": "markdown",
   "id": "c02b2fb4",
   "metadata": {},
   "source": [
    "#### Notice  that  the  arrow  below  is  pointing  East  (E)  but  it  can  also  point North (N), South(S) or West (W). Justify the idea that we have a non-zero probability to go backwards (0.1). Assume a reward of -0.02 for all states and a discount value of 0.9. "
   ]
  },
  {
   "cell_type": "markdown",
   "id": "bdbd9304",
   "metadata": {},
   "source": [
    "We have a non-zero probability to go backwards due to the non-deterministic, or stochastic, nature of our world. Since our world is non-deterministic, there will always be some degree of randomness whenever we choose an action - if we are at a certain state $s$ and choose a particular action $a$, there is no guarantee that we will have the same resulting state $s'$, even if we choose the same action $a$."
   ]
  },
  {
   "cell_type": "markdown",
   "id": "9b4c6ba8",
   "metadata": {},
   "source": [
    "#### Solve the Bellman equation for both policies."
   ]
  },
  {
   "cell_type": "markdown",
   "id": "cb0af906",
   "metadata": {},
   "source": [
    "Optimal policy:\n",
    "\\begin{align*}\n",
    "    V^\\pi(s1) &= 0.892977 \\\\ V^\\pi(s2) &= 1.14478 \\\\ V^\\pi(s3) &= 1.35823 \\\\ V^\\pi(s4) &= 0.140056 \\\\ V^\\pi(s5) &= 0.909375 \\\\ sum_\\text{optimal} &= 4.445418\n",
    "\\end{align*}\n",
    "\n",
    "Random policy:\n",
    "\\begin{align*}\n",
    "    V^\\pi(s1) &= 0.799719 \\\\ V^\\pi(s2) &= -0.0167825 \\\\ V^\\pi(s3) &= 0.508547 \\\\ V^\\pi(s4) &= 0.135628 \\\\ V^\\pi(s5) &= 0.256567 \\\\ sum_\\text{random} &= 1.6836785\n",
    "\\end{align*}"
   ]
  },
  {
   "cell_type": "markdown",
   "id": "78785741",
   "metadata": {},
   "source": [
    "## Question 2"
   ]
  },
  {
   "cell_type": "markdown",
   "id": "1e172f53",
   "metadata": {},
   "source": [
    "#### Write a small python program that iterates the Bellman equation with initial values equal to zero."
   ]
  },
  {
   "cell_type": "markdown",
   "id": "4c08e603",
   "metadata": {},
   "source": [
    "First, we will find values for each state $(s1,...,s5)$ under the $optimal$ policy."
   ]
  },
  {
   "cell_type": "markdown",
   "id": "67c479d6",
   "metadata": {},
   "source": [
    "We will also simultaneously store the values of each state, from each iteration, in a dataframe."
   ]
  },
  {
   "cell_type": "code",
   "execution_count": 4,
   "id": "aed44c23",
   "metadata": {},
   "outputs": [
    {
     "data": {
      "text/html": [
       "<div>\n",
       "<style scoped>\n",
       "    .dataframe tbody tr th:only-of-type {\n",
       "        vertical-align: middle;\n",
       "    }\n",
       "\n",
       "    .dataframe tbody tr th {\n",
       "        vertical-align: top;\n",
       "    }\n",
       "\n",
       "    .dataframe thead th {\n",
       "        text-align: right;\n",
       "    }\n",
       "</style>\n",
       "<table border=\"1\" class=\"dataframe\">\n",
       "  <thead>\n",
       "    <tr style=\"text-align: right;\">\n",
       "      <th></th>\n",
       "      <th>value id</th>\n",
       "      <th>initial</th>\n",
       "      <th>1</th>\n",
       "      <th>2</th>\n",
       "      <th>3</th>\n",
       "      <th>4</th>\n",
       "      <th>5</th>\n",
       "      <th>6</th>\n",
       "      <th>7</th>\n",
       "      <th>8</th>\n",
       "      <th>9</th>\n",
       "      <th>10</th>\n",
       "    </tr>\n",
       "  </thead>\n",
       "  <tbody>\n",
       "    <tr>\n",
       "      <th>0</th>\n",
       "      <td>v_s1_opt</td>\n",
       "      <td>0.0</td>\n",
       "      <td>0.61</td>\n",
       "      <td>0.7180</td>\n",
       "      <td>0.769840</td>\n",
       "      <td>0.783953</td>\n",
       "      <td>0.804054</td>\n",
       "      <td>0.814466</td>\n",
       "      <td>0.827153</td>\n",
       "      <td>0.835676</td>\n",
       "      <td>0.844395</td>\n",
       "      <td>0.851009</td>\n",
       "    </tr>\n",
       "    <tr>\n",
       "      <th>1</th>\n",
       "      <td>v_s2_opt</td>\n",
       "      <td>0.0</td>\n",
       "      <td>-0.02</td>\n",
       "      <td>-0.0380</td>\n",
       "      <td>0.183940</td>\n",
       "      <td>0.277339</td>\n",
       "      <td>0.425476</td>\n",
       "      <td>0.513036</td>\n",
       "      <td>0.612362</td>\n",
       "      <td>0.682859</td>\n",
       "      <td>0.752182</td>\n",
       "      <td>0.806215</td>\n",
       "    </tr>\n",
       "    <tr>\n",
       "      <th>2</th>\n",
       "      <td>v_s3_opt</td>\n",
       "      <td>0.0</td>\n",
       "      <td>-0.02</td>\n",
       "      <td>0.3400</td>\n",
       "      <td>0.393136</td>\n",
       "      <td>0.588246</td>\n",
       "      <td>0.663742</td>\n",
       "      <td>0.783877</td>\n",
       "      <td>0.853208</td>\n",
       "      <td>0.933032</td>\n",
       "      <td>0.989088</td>\n",
       "      <td>1.044638</td>\n",
       "    </tr>\n",
       "    <tr>\n",
       "      <th>3</th>\n",
       "      <td>v_s4_opt</td>\n",
       "      <td>0.0</td>\n",
       "      <td>-0.02</td>\n",
       "      <td>-0.0272</td>\n",
       "      <td>0.003256</td>\n",
       "      <td>0.016261</td>\n",
       "      <td>0.037333</td>\n",
       "      <td>0.049817</td>\n",
       "      <td>0.063999</td>\n",
       "      <td>0.074069</td>\n",
       "      <td>0.083971</td>\n",
       "      <td>0.091690</td>\n",
       "    </tr>\n",
       "    <tr>\n",
       "      <th>4</th>\n",
       "      <td>v_s5_opt</td>\n",
       "      <td>0.0</td>\n",
       "      <td>-0.11</td>\n",
       "      <td>-0.1424</td>\n",
       "      <td>0.078568</td>\n",
       "      <td>0.151818</td>\n",
       "      <td>0.287922</td>\n",
       "      <td>0.359983</td>\n",
       "      <td>0.448639</td>\n",
       "      <td>0.508276</td>\n",
       "      <td>0.569300</td>\n",
       "      <td>0.615600</td>\n",
       "    </tr>\n",
       "  </tbody>\n",
       "</table>\n",
       "</div>"
      ],
      "text/plain": [
       "   value id  initial     1       2         3         4         5         6  \\\n",
       "0  v_s1_opt      0.0  0.61  0.7180  0.769840  0.783953  0.804054  0.814466   \n",
       "1  v_s2_opt      0.0 -0.02 -0.0380  0.183940  0.277339  0.425476  0.513036   \n",
       "2  v_s3_opt      0.0 -0.02  0.3400  0.393136  0.588246  0.663742  0.783877   \n",
       "3  v_s4_opt      0.0 -0.02 -0.0272  0.003256  0.016261  0.037333  0.049817   \n",
       "4  v_s5_opt      0.0 -0.11 -0.1424  0.078568  0.151818  0.287922  0.359983   \n",
       "\n",
       "          7         8         9        10  \n",
       "0  0.827153  0.835676  0.844395  0.851009  \n",
       "1  0.612362  0.682859  0.752182  0.806215  \n",
       "2  0.853208  0.933032  0.989088  1.044638  \n",
       "3  0.063999  0.074069  0.083971  0.091690  \n",
       "4  0.448639  0.508276  0.569300  0.615600  "
      ]
     },
     "execution_count": 4,
     "metadata": {},
     "output_type": "execute_result"
    }
   ],
   "source": [
    "### OPTIMAL POLICY\n",
    "\n",
    "# initialize these V values to be 0, replace with each future iteration\n",
    "v_heaven = 1\n",
    "v_s1_opt = 0\n",
    "v_s2_opt = 0\n",
    "v_s3_opt = 0\n",
    "v_s4_opt = 0\n",
    "v_s5_opt = 0\n",
    "v_hell = -1\n",
    "\n",
    "reward = -0.02\n",
    "discount = 0.9\n",
    "\n",
    "# using probabilities for each state given s' under optimal policy\n",
    "probability_next_s1_opt = np.array([0.7, 0.2, 0, 0.1, 0, 0, 0])\n",
    "probability_next_s2_opt = np.array([0, 0, 0.3, 0.7, 0, 0, 0])\n",
    "probability_next_s3_opt = np.array([0, 0.7, 0.7, 0, 0.1, 0.1, 0])\n",
    "probability_next_s4_opt = np.array([0, 0, 0, 0.1, 0.3, 0, 0])\n",
    "probability_next_s5_opt = np.array([0, 0, 0, 0.7, 0, 0.2, 0.1])\n",
    "\n",
    "# create dataframe to store state values from each iteration \n",
    "zeros_opt = np.zeros(5)\n",
    "#v_s1_opt, v_s2_opt, v_s3_opt, v_s4_opt, v_s5_opt = zeros_opt\n",
    "d_opt = {'value id': ['v_s1_opt', 'v_s2_opt', 'v_s3_opt', 'v_s4_opt', 'v_s5_opt'], 'initial':zeros_opt}\n",
    "vals_opt = pd.DataFrame(data=d_opt)\n",
    "\n",
    "# start iteration\n",
    "for i in np.arange(1,11):\n",
    "    val_next_opt = np.array([v_heaven, v_s1_opt, v_s2_opt, v_s3_opt, v_s4_opt, v_s5_opt, v_hell])\n",
    "    \n",
    "    v_s1_opt = reward + discount*(np.sum(probability_next_s1_opt * val_next_opt))\n",
    "    v_s2_opt = reward + discount*(np.sum(probability_next_s2_opt * val_next_opt))\n",
    "    v_s3_opt = reward + discount*(np.sum(probability_next_s3_opt * val_next_opt))\n",
    "    v_s4_opt = reward + discount*(np.sum(probability_next_s4_opt * val_next_opt))\n",
    "    v_s5_opt = reward + discount*(np.sum(probability_next_s5_opt * val_next_opt))\n",
    "    \n",
    "    vals_opt[i] = [v_s1_opt, v_s2_opt, v_s3_opt, v_s4_opt, v_s5_opt]\n",
    "\n",
    "vals_opt"
   ]
  },
  {
   "cell_type": "markdown",
   "id": "b8e7b6f7",
   "metadata": {},
   "source": [
    "Awesome, we have a table of values as they change with each iteration under our optimal policy!"
   ]
  },
  {
   "cell_type": "markdown",
   "id": "0b58ab38",
   "metadata": {},
   "source": [
    "Next, we will find values for each state $(s1,...,s5)$ under the $random$ policy. We will essentially follow the same code as above; the only thing we will really alter are the probability_next arrays and some variable names."
   ]
  },
  {
   "cell_type": "code",
   "execution_count": 6,
   "id": "b695ee6d",
   "metadata": {},
   "outputs": [
    {
     "data": {
      "text/html": [
       "<div>\n",
       "<style scoped>\n",
       "    .dataframe tbody tr th:only-of-type {\n",
       "        vertical-align: middle;\n",
       "    }\n",
       "\n",
       "    .dataframe tbody tr th {\n",
       "        vertical-align: top;\n",
       "    }\n",
       "\n",
       "    .dataframe thead th {\n",
       "        text-align: right;\n",
       "    }\n",
       "</style>\n",
       "<table border=\"1\" class=\"dataframe\">\n",
       "  <thead>\n",
       "    <tr style=\"text-align: right;\">\n",
       "      <th></th>\n",
       "      <th>value id</th>\n",
       "      <th>initial</th>\n",
       "      <th>1</th>\n",
       "      <th>2</th>\n",
       "      <th>3</th>\n",
       "      <th>4</th>\n",
       "      <th>5</th>\n",
       "      <th>6</th>\n",
       "      <th>7</th>\n",
       "      <th>8</th>\n",
       "      <th>9</th>\n",
       "      <th>10</th>\n",
       "    </tr>\n",
       "  </thead>\n",
       "  <tbody>\n",
       "    <tr>\n",
       "      <th>0</th>\n",
       "      <td>v_s1_rand</td>\n",
       "      <td>0.0</td>\n",
       "      <td>0.61</td>\n",
       "      <td>0.7180</td>\n",
       "      <td>0.769840</td>\n",
       "      <td>0.783866</td>\n",
       "      <td>0.792275</td>\n",
       "      <td>0.796411</td>\n",
       "      <td>0.799457</td>\n",
       "      <td>0.801760</td>\n",
       "      <td>0.803715</td>\n",
       "      <td>0.805410</td>\n",
       "    </tr>\n",
       "    <tr>\n",
       "      <th>1</th>\n",
       "      <td>v_s2_rand</td>\n",
       "      <td>0.0</td>\n",
       "      <td>-0.02</td>\n",
       "      <td>-0.0380</td>\n",
       "      <td>-0.020180</td>\n",
       "      <td>-0.001051</td>\n",
       "      <td>0.020327</td>\n",
       "      <td>0.040267</td>\n",
       "      <td>0.058720</td>\n",
       "      <td>0.075421</td>\n",
       "      <td>0.090489</td>\n",
       "      <td>0.104037</td>\n",
       "    </tr>\n",
       "    <tr>\n",
       "      <th>2</th>\n",
       "      <td>v_s3_rand</td>\n",
       "      <td>0.0</td>\n",
       "      <td>-0.02</td>\n",
       "      <td>0.3400</td>\n",
       "      <td>0.392164</td>\n",
       "      <td>0.457541</td>\n",
       "      <td>0.486687</td>\n",
       "      <td>0.512261</td>\n",
       "      <td>0.531755</td>\n",
       "      <td>0.548866</td>\n",
       "      <td>0.563790</td>\n",
       "      <td>0.577101</td>\n",
       "    </tr>\n",
       "    <tr>\n",
       "      <th>3</th>\n",
       "      <td>v_s4_rand</td>\n",
       "      <td>0.0</td>\n",
       "      <td>-0.02</td>\n",
       "      <td>-0.0380</td>\n",
       "      <td>-0.020180</td>\n",
       "      <td>-0.001051</td>\n",
       "      <td>0.020327</td>\n",
       "      <td>0.040267</td>\n",
       "      <td>0.058720</td>\n",
       "      <td>0.075421</td>\n",
       "      <td>0.090489</td>\n",
       "      <td>0.104037</td>\n",
       "    </tr>\n",
       "    <tr>\n",
       "      <th>4</th>\n",
       "      <td>v_s5_rand</td>\n",
       "      <td>0.0</td>\n",
       "      <td>-0.11</td>\n",
       "      <td>-0.1424</td>\n",
       "      <td>0.078568</td>\n",
       "      <td>0.151206</td>\n",
       "      <td>0.205468</td>\n",
       "      <td>0.233597</td>\n",
       "      <td>0.254772</td>\n",
       "      <td>0.270865</td>\n",
       "      <td>0.284541</td>\n",
       "      <td>0.296405</td>\n",
       "    </tr>\n",
       "  </tbody>\n",
       "</table>\n",
       "</div>"
      ],
      "text/plain": [
       "    value id  initial     1       2         3         4         5         6  \\\n",
       "0  v_s1_rand      0.0  0.61  0.7180  0.769840  0.783866  0.792275  0.796411   \n",
       "1  v_s2_rand      0.0 -0.02 -0.0380 -0.020180 -0.001051  0.020327  0.040267   \n",
       "2  v_s3_rand      0.0 -0.02  0.3400  0.392164  0.457541  0.486687  0.512261   \n",
       "3  v_s4_rand      0.0 -0.02 -0.0380 -0.020180 -0.001051  0.020327  0.040267   \n",
       "4  v_s5_rand      0.0 -0.11 -0.1424  0.078568  0.151206  0.205468  0.233597   \n",
       "\n",
       "          7         8         9        10  \n",
       "0  0.799457  0.801760  0.803715  0.805410  \n",
       "1  0.058720  0.075421  0.090489  0.104037  \n",
       "2  0.531755  0.548866  0.563790  0.577101  \n",
       "3  0.058720  0.075421  0.090489  0.104037  \n",
       "4  0.254772  0.270865  0.284541  0.296405  "
      ]
     },
     "execution_count": 6,
     "metadata": {},
     "output_type": "execute_result"
    }
   ],
   "source": [
    "### RANDOM POLICY\n",
    "\n",
    "# initialize these V values to be 0, replace with each future iteration\n",
    "v_heaven = 1\n",
    "v_s1_rand = 0\n",
    "v_s2_rand = 0\n",
    "v_s3_rand = 0\n",
    "v_s4_rand = 0\n",
    "v_s5_rand = 0\n",
    "v_hell = -1\n",
    "\n",
    "reward = -0.02\n",
    "discount = 0.9\n",
    "\n",
    "# using probabilities for each state given s' under random policy\n",
    "probability_next_s1_rand = np.array([0.7, 0.2, 0, 0.1, 0, 0, 0])\n",
    "probability_next_s2_rand = np.array([0, 0, 0.9, 0.1, 0, 0, 0])\n",
    "probability_next_s3_rand = np.array([0, 0.7, 0.7, 0, 0.1, 0.1, 0])\n",
    "probability_next_s4_rand = np.array([0, 0, 0, 0.1, 0.9, 0, 0])\n",
    "probability_next_s5_rand = np.array([0, 0, 0, 0.7, 0, 0.2, 0.1])\n",
    "\n",
    "# create dataframe to store state values from each iteration \n",
    "zeros_rand = np.zeros(5)\n",
    "#v_s1_rand, v_s2_rand, v_s3_rand, v_s4_rand, v_s5_rand = zeros_rand\n",
    "d_rand = {'value id': ['v_s1_rand', 'v_s2_rand', 'v_s3_rand', 'v_s4_rand', 'v_s5_rand'], 'initial': zeros_rand}\n",
    "vals_rand = pd.DataFrame(data=d_rand)\n",
    "\n",
    "# start iteration\n",
    "for i in np.arange(1,11):\n",
    "    val_next_rand = np.array([v_heaven, v_s1_rand, v_s2_rand, v_s3_rand, v_s4_rand, v_s5_rand, v_hell])\n",
    "    \n",
    "    v_s1_rand = reward + discount*(np.sum(probability_next_s1_rand * val_next_rand))\n",
    "    v_s2_rand = reward + discount*(np.sum(probability_next_s2_rand * val_next_rand))\n",
    "    v_s3_rand = reward + discount*(np.sum(probability_next_s3_rand * val_next_rand))\n",
    "    v_s4_rand = reward + discount*(np.sum(probability_next_s4_rand * val_next_rand))\n",
    "    v_s5_rand = reward + discount*(np.sum(probability_next_s5_rand * val_next_rand))\n",
    "    \n",
    "    vals_rand[i] = [v_s1_rand, v_s2_rand, v_s3_rand, v_s4_rand, v_s5_rand]\n",
    "\n",
    "    \n",
    "vals_rand"
   ]
  },
  {
   "cell_type": "markdown",
   "id": "bda2c90c",
   "metadata": {},
   "source": [
    "We now have a table of values as they change with each iteration under the random policy!"
   ]
  },
  {
   "cell_type": "markdown",
   "id": "9c8e5f87",
   "metadata": {},
   "source": [
    "###### Printing the expected & random values for each policy, to make them easier to compare:"
   ]
  },
  {
   "cell_type": "code",
   "execution_count": 7,
   "id": "4f32ef2e",
   "metadata": {},
   "outputs": [
    {
     "name": "stdout",
     "output_type": "stream",
     "text": [
      "Optimal policy\n",
      "Expected: 4.445418\n",
      "Actual: 3.4091513393714585\n",
      "   \n",
      "Random policy\n",
      "Expected: 1.6836785\n",
      "Actual: 1.8869899702304749\n"
     ]
    }
   ],
   "source": [
    "actual_optimal_summed = sum(np.array([v_s1_opt, v_s2_opt, v_s3_opt, v_s4_opt, v_s5_opt]))\n",
    "expected_optimal_summed = sum(np.array([0.892977, 1.14478, 1.35823, 0.140056, 0.909375]))\n",
    "\n",
    "actual_random_summed = sum(np.array([v_s1_rand, v_s2_rand, v_s3_rand, v_s4_rand, v_s5_rand]))\n",
    "expected_random_summed = sum(np.array([0.799719, -0.0167825, 0.508547, 0.135628, 0.256567]))\n",
    "\n",
    "print('Optimal policy')\n",
    "print('Expected:', expected_optimal_summed)\n",
    "print('Actual:', actual_optimal_summed)\n",
    "\n",
    "print('   ')\n",
    "\n",
    "print('Random policy')\n",
    "print('Expected:', expected_random_summed)\n",
    "print('Actual:', actual_random_summed)"
   ]
  },
  {
   "cell_type": "markdown",
   "id": "af878b24",
   "metadata": {},
   "source": [
    "Let's calculate the accuracy for each policy."
   ]
  },
  {
   "cell_type": "code",
   "execution_count": 8,
   "id": "20378f59",
   "metadata": {},
   "outputs": [
    {
     "name": "stdout",
     "output_type": "stream",
     "text": [
      "Optimal policy accuracy is -30.396616561457694%\n",
      "Random policy accuracy is 10.774380014624168%\n"
     ]
    }
   ],
   "source": [
    "optimal_accuracy = ((actual_optimal_summed - expected_optimal_summed) / actual_optimal_summed) * 100\n",
    "random_accuracy = ((actual_random_summed - expected_random_summed) / actual_random_summed) * 100\n",
    "\n",
    "print(\"Optimal policy accuracy is \" + str(optimal_accuracy) + \"%\")\n",
    "print(\"Random policy accuracy is \" + str(random_accuracy) + \"%\")"
   ]
  },
  {
   "cell_type": "markdown",
   "id": "87154002",
   "metadata": {},
   "source": [
    "It's kind of difficult to make comparisons between each policy, so let's create a visual to make it easier."
   ]
  },
  {
   "cell_type": "markdown",
   "id": "ba338dab",
   "metadata": {},
   "source": [
    "Since we created a dataframe for how each state's values changed with each iteration, let's plot those side by side and see what we get!"
   ]
  },
  {
   "cell_type": "code",
   "execution_count": 12,
   "id": "37330709",
   "metadata": {
    "scrolled": true
   },
   "outputs": [
    {
     "data": {
      "image/png": "[encoded data removed]",
      "text/plain": [
       "<Figure size 432x288 with 2 Axes>"
      ]
     },
     "metadata": {
      "needs_background": "light"
     },
     "output_type": "display_data"
    }
   ],
   "source": [
    "x = np.linspace(1, 11, num=11)\n",
    "ten = np.array([1, 2, 3, 4, 5, 6, 7, 8, 9, 10])\n",
    "\n",
    "# y vals for optimal policy\n",
    "y_s1_opt = np.array(pd.to_numeric(vals_opt.iloc[0,1:12]))\n",
    "y_s2_opt = np.array(pd.to_numeric(vals_opt.iloc[1,1:12]))\n",
    "y_s3_opt = np.array(pd.to_numeric(vals_opt.iloc[2,1:12]))\n",
    "y_s4_opt = np.array(pd.to_numeric(vals_opt.iloc[3,1:12]))\n",
    "y_s5_opt = np.array(pd.to_numeric(vals_opt.iloc[4,1:12]))\n",
    "\n",
    "\n",
    "# y vals for random policy\n",
    "y_s1_rand = np.array(pd.to_numeric(vals_rand.iloc[0,1:12]))\n",
    "y_s2_rand = np.array(pd.to_numeric(vals_rand.iloc[1,1:12]))\n",
    "y_s3_rand = np.array(pd.to_numeric(vals_rand.iloc[2,1:12]))\n",
    "y_s4_rand = np.array(pd.to_numeric(vals_rand.iloc[3,1:12]))\n",
    "y_s5_rand = np.array(pd.to_numeric(vals_rand.iloc[4,1:12]))\n",
    "\n",
    "# create two side-by-side plots\n",
    "fig, (ax1, ax2) = plt.subplots(1, 2) \n",
    "\n",
    "# optimal policy plot\n",
    "ax1.plot(x, y_s1_opt)\n",
    "ax1.plot(x, y_s2_opt)\n",
    "ax1.plot(x, y_s3_opt)\n",
    "ax1.plot(x, y_s4_opt)\n",
    "ax1.plot(x, y_s5_opt)\n",
    "ax1.set_title('Optimal policy over 10 iterations')\n",
    "\n",
    "\n",
    "\n",
    "# random policy plot\n",
    "ax2.plot(x, y_s1_rand)\n",
    "ax2.plot(x, y_s2_rand)\n",
    "ax2.plot(x, y_s3_rand)\n",
    "ax2.plot(x, y_s4_rand)\n",
    "ax2.plot(x, y_s5_rand)\n",
    "ax2.set_title('Random policy over 10 iterations')\n",
    "\n",
    "# create legend, axes labels\n",
    "plt.legend([\"s1\", \"s2\", \"s3\", \"s4\", \"s5\"])\n",
    "fig.suptitle('State Values $V(s_i)$ under Optimal vs. Random Policy over Time')\n",
    "ax1.set(xlabel=\"Number of iterations\", ylabel=\"Value of State ($V(s_i)$)\")\n",
    "ax2.set(xlabel=\"Number of iterations\", ylabel=\"Value of State ($V(s_i)$)\")\n",
    "ax1.set_xticks(ticks = ten)\n",
    "ax2.set_xticks(ticks = ten)\n",
    "ax1.set_ylim([-0.5, 1.5])\n",
    "ax2.set_ylim([-0.5, 1.5])\n",
    "\n",
    "plt.tight_layout()\n",
    "plt.show()"
   ]
  },
  {
   "cell_type": "markdown",
   "id": "9faa51ef",
   "metadata": {},
   "source": [
    "* Note that due to the computation of the values of s2 and s4 being the same under the random policy, only s4 is visible on the random policy graph; however, s2 also lies on this line."
   ]
  },
  {
   "cell_type": "markdown",
   "id": "6613143a",
   "metadata": {},
   "source": [
    "#### Does this iteration converge to the random policy you set up in question 1? How about the optimal policy?"
   ]
  },
  {
   "cell_type": "markdown",
   "id": "d81be4a7",
   "metadata": {},
   "source": [
    "From summing up the values in the final iteration of the random policy, we can see that the iterations do not fully converge with the expected sum of the random policy that we set up in question 1. However, the final sum that we get is a lot closer to the expected sum when we use the random policy versus the optimal policy. \n",
    "\n",
    "From the graphs we created, we can see that the optimal policy did produce higher state values than the random policy. This validates the idea that the optimal policy in a stochastic world gives us the best chance at having the highest score."
   ]
  }
 ],
 "metadata": {
  "kernelspec": {
   "display_name": "Python 3 (ipykernel)",
   "language": "python",
   "name": "python3"
  },
  "language_info": {
   "codemirror_mode": {
    "name": "ipython",
    "version": 3
   },
   "file_extension": ".py",
   "mimetype": "text/x-python",
   "name": "python",
   "nbconvert_exporter": "python",
   "pygments_lexer": "ipython3",
   "version": "3.9.7"
  }
 },
 "nbformat": 4,
 "nbformat_minor": 5
}
